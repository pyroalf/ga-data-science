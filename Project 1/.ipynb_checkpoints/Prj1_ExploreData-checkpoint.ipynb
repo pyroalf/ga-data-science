{
 "cells": [
  {
   "cell_type": "code",
   "execution_count": 1,
   "metadata": {
    "collapsed": false
   },
   "outputs": [
    {
     "name": "stdout",
     "output_type": "stream",
     "text": [
      "   admit  gre   gpa  prestige\n",
      "0      0  380  3.61         3\n",
      "1      1  660  3.67         3\n",
      "2      1  800  4.00         1\n",
      "3      1  640  3.19         4\n",
      "4      0  520  2.93         4\n"
     ]
    }
   ],
   "source": [
    "#read in the admissions data from csv file\n",
    "import os\n",
    "import pandas as pd\n",
    "data = pd.read_csv(\"./admissions.csv\")\n",
    "print data.head() #prints the first few observations in the dataset"
   ]
  },
  {
   "cell_type": "code",
   "execution_count": 2,
   "metadata": {
    "collapsed": false
   },
   "outputs": [
    {
     "name": "stdout",
     "output_type": "stream",
     "text": [
      "['.ipynb_checkpoints', 'admissions.csv', 'assets', 'Prj1_ExploreData.ipynb', 'project1-starter.ipynb']\n"
     ]
    }
   ],
   "source": [
    "print os.listdir('./') #use this to see where you are on the directory"
   ]
  },
  {
   "cell_type": "code",
   "execution_count": 3,
   "metadata": {
    "collapsed": false
   },
   "outputs": [
    {
     "data": {
      "text/plain": [
       "admit         int64\n",
       "gre         float64\n",
       "gpa         float64\n",
       "prestige    float64\n",
       "dtype: object"
      ]
     },
     "execution_count": 3,
     "metadata": {},
     "output_type": "execute_result"
    }
   ],
   "source": [
    "# Check data type of the columns\n",
    "data.dtypes"
   ]
  },
  {
   "cell_type": "code",
   "execution_count": 7,
   "metadata": {
    "collapsed": false
   },
   "outputs": [
    {
     "name": "stdout",
     "output_type": "stream",
     "text": [
      "            admit         gre        gpa    prestige\n",
      "count  400.000000  398.000000  398.00000  399.000000\n",
      "mean     0.317500  588.040201    3.39093    2.486216\n",
      "std      0.466087  115.628513    0.38063    0.945333\n",
      "min      0.000000  220.000000    2.26000    1.000000\n",
      "25%      0.000000  520.000000    3.13000    2.000000\n",
      "50%      0.000000  580.000000    3.39500    2.000000\n",
      "75%      1.000000  660.000000    3.67000    3.000000\n",
      "max      1.000000  800.000000    4.00000    4.000000\n"
     ]
    }
   ],
   "source": [
    "print data.describe()"
   ]
  },
  {
   "cell_type": "code",
   "execution_count": 93,
   "metadata": {
    "collapsed": false
   },
   "outputs": [
    {
     "data": {
      "text/plain": [
       "220.0"
      ]
     },
     "execution_count": 93,
     "metadata": {},
     "output_type": "execute_result"
    }
   ],
   "source": [
    "data['gre'].min()"
   ]
  },
  {
   "cell_type": "code",
   "execution_count": 94,
   "metadata": {
    "collapsed": false
   },
   "outputs": [
    {
     "data": {
      "text/plain": [
       "4.0"
      ]
     },
     "execution_count": 94,
     "metadata": {},
     "output_type": "execute_result"
    }
   ],
   "source": [
    "data['gpa'].max()"
   ]
  },
  {
   "cell_type": "code",
   "execution_count": 95,
   "metadata": {
    "collapsed": false
   },
   "outputs": [
    {
     "data": {
      "text/plain": [
       "array([ 3.61,  3.67,  4.  ,  3.19,  2.93,  3.  ,  2.98,  3.08,  3.39,\n",
       "        3.92,  3.22,  3.44,  3.87,  2.56,  3.75,  3.81,  3.17,  3.63,\n",
       "        2.82,  3.35,  3.66,  3.74,  3.29,  3.78,  3.4 ,  3.14,  3.05,\n",
       "        3.25,  2.9 ,  3.13,  2.68,  2.42,  3.32,  3.15,  3.31,  2.94,\n",
       "        3.45,  3.46,  2.97,  2.48,  3.86,  3.37,  3.27,  3.34,  3.65,\n",
       "        3.18,  3.85,  3.59,  3.62,  3.3 ,  3.69,  3.73,  2.92,  3.36,\n",
       "        3.12,  3.07,  2.71,  2.91,  3.6 ,  3.48,  3.28,  3.83,  3.64,\n",
       "        3.9 ,  3.33,  3.52,  3.57,  2.88,  3.94,  3.95,  3.56,  3.41,\n",
       "        3.84,  3.99,  3.72,  3.7 ,  2.67,  2.85,  3.88,  3.38,  3.54,\n",
       "        2.79,  2.95,  3.58,  3.93,  3.43,  2.86,  2.52,  3.49,  3.82,\n",
       "        3.5 ,  2.73,  3.24,  3.77,  3.51,  2.81,  3.53,  2.62,  3.23,\n",
       "        3.01,   nan,  3.76,  3.47,  3.2 ,  3.89,  3.8 ,  3.16,  3.02,\n",
       "        2.87,  3.42,  2.76,  2.96,  3.04,  3.91,  3.21,  3.55,  3.11,\n",
       "        3.1 ,  2.26,  2.78,  3.97,  2.55,  3.98,  2.83,  2.84,  3.71,\n",
       "        2.69,  2.7 ,  3.09,  2.65,  3.06,  3.03,  2.63])"
      ]
     },
     "execution_count": 95,
     "metadata": {},
     "output_type": "execute_result"
    }
   ],
   "source": [
    "data['gpa'].unique() #displays unique values for variable"
   ]
  },
  {
   "cell_type": "code",
   "execution_count": 4,
   "metadata": {
    "collapsed": false,
    "scrolled": true
   },
   "outputs": [
    {
     "data": {
      "text/plain": [
       "<matplotlib.axes._subplots.AxesSubplot at 0x114c74b50>"
      ]
     },
     "execution_count": 4,
     "metadata": {},
     "output_type": "execute_result"
    },
    {
     "data": {
      "image/png": "[encoded data removed]",
      "text/plain": [
       "<matplotlib.figure.Figure at 0x112b7bd90>"
      ]
     },
     "metadata": {},
     "output_type": "display_data"
    }
   ],
   "source": [
    "import matplotlib.pyplot as plt # enable plotting\n",
    "%matplotlib inline \n",
    "\n",
    "data['gpa'].hist()\n",
    "\n",
    "#test plotting variable distribution"
   ]
  },
  {
   "cell_type": "code",
   "execution_count": 5,
   "metadata": {
    "collapsed": false
   },
   "outputs": [
    {
     "data": {
      "text/plain": [
       "<matplotlib.axes._subplots.AxesSubplot at 0x117a45f90>"
      ]
     },
     "execution_count": 5,
     "metadata": {},
     "output_type": "execute_result"
    },
    {
     "data": {
      "image/png": "[encoded data removed]",
      "text/plain": [
       "<matplotlib.figure.Figure at 0x117a36c90>"
      ]
     },
     "metadata": {},
     "output_type": "display_data"
    }
   ],
   "source": [
    "data['gre'].plot()"
   ]
  },
  {
   "cell_type": "code",
   "execution_count": 7,
   "metadata": {
    "collapsed": false
   },
   "outputs": [
    {
     "data": {
      "text/plain": [
       "array([[<matplotlib.axes._subplots.AxesSubplot object at 0x119cd4110>,\n",
       "        <matplotlib.axes._subplots.AxesSubplot object at 0x119e47650>],\n",
       "       [<matplotlib.axes._subplots.AxesSubplot object at 0x119ed0b90>,\n",
       "        <matplotlib.axes._subplots.AxesSubplot object at 0x119f52a10>]], dtype=object)"
      ]
     },
     "execution_count": 7,
     "metadata": {},
     "output_type": "execute_result"
    },
    {
     "data": {
      "image/png": "[encoded data removed]",
      "text/plain": [
       "<matplotlib.figure.Figure at 0x117b974d0>"
      ]
     },
     "metadata": {},
     "output_type": "display_data"
    }
   ],
   "source": [
    "#create histograms of each variable distribution\n",
    "data.hist()"
   ]
  },
  {
   "cell_type": "code",
   "execution_count": 6,
   "metadata": {
    "collapsed": false
   },
   "outputs": [
    {
     "name": "stdout",
     "output_type": "stream",
     "text": [
      "prestige   1   2   3   4\n",
      "admit                   \n",
      "0         28  97  93  55\n",
      "1         33  53  28  12\n"
     ]
    }
   ],
   "source": [
    "import pandas as pd\n",
    "import statsmodels.api as sm\n",
    "import pylab as pl\n",
    "import numpy as np\n",
    "\n",
    "# 2-way frequency table of prestige and admit variables\n",
    "print pd.crosstab(data['admit'], data['prestige'], rownames=['admit'])"
   ]
  },
  {
   "cell_type": "code",
   "execution_count": 8,
   "metadata": {
    "collapsed": false
   },
   "outputs": [
    {
     "name": "stdout",
     "output_type": "stream",
     "text": [
      "gpa    2.26  2.42  2.48  2.52  2.55  2.56  2.62  2.63  2.65  2.67  ...   3.90  \\\n",
      "admit                                                              ...          \n",
      "0         1     1     1     1     1     1     1     1     0     1  ...      2   \n",
      "1         0     1     0     0     0     0     1     0     1     1  ...      1   \n",
      "\n",
      "gpa    3.91  3.92  3.93  3.94  3.95  3.97  3.98  3.99  4.00  \n",
      "admit                                                        \n",
      "0         1     2     1     4     1     1     0     2    15  \n",
      "1         0     0     0     1     4     0     1     1    13  \n",
      "\n",
      "[2 rows x 132 columns]\n"
     ]
    }
   ],
   "source": [
    "# 2-way frequency table of prestige and admit variables\n",
    "print pd.crosstab(data['admit'], data['gpa'], rownames=['admit'])"
   ]
  },
  {
   "cell_type": "code",
   "execution_count": 9,
   "metadata": {
    "collapsed": false
   },
   "outputs": [
    {
     "name": "stdout",
     "output_type": "stream",
     "text": [
      "gre    220  300  340  360  380  400  420  440  460  480 ...   620  640  660  \\\n",
      "admit                                                   ...                   \n",
      "0        1    2    3    4    8    9    7    8    9   10 ...    18   16   12   \n",
      "1        0    1    1    0    0    2    0    2    4    6 ...    12    5   12   \n",
      "\n",
      "gre    680  700  720  740  760  780  800  \n",
      "admit                                     \n",
      "0       11   17    8    7    1    1   14  \n",
      "1        9    5    3    4    4    4   11  \n",
      "\n",
      "[2 rows x 26 columns]\n"
     ]
    }
   ],
   "source": [
    "# 2-way frequency table of prestige and admit variables\n",
    "print pd.crosstab(data['admit'], data['gre'], rownames=['admit'])"
   ]
  },
  {
   "cell_type": "code",
   "execution_count": 11,
   "metadata": {
    "collapsed": true
   },
   "outputs": [],
   "source": [
    "bygroup_admit = data.groupby(['admit', 'gpa'])\n",
    "describe()"
   ]
  },
  {
   "cell_type": "code",
   "execution_count": null,
   "metadata": {
    "collapsed": true
   },
   "outputs": [],
   "source": []
  }
 ],
 "metadata": {
  "kernelspec": {
   "display_name": "Python 2",
   "language": "python",
   "name": "python2"
  },
  "language_info": {
   "codemirror_mode": {
    "name": "ipython",
    "version": 2
   },
   "file_extension": ".py",
   "mimetype": "text/x-python",
   "name": "python",
   "nbconvert_exporter": "python",
   "pygments_lexer": "ipython2",
   "version": "2.7.11"
  }
 },
 "nbformat": 4,
 "nbformat_minor": 0
}
